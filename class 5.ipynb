{
 "cells": [
  {
   "cell_type": "markdown",
   "metadata": {},
   "source": [
    "# Functions"
   ]
  },
  {
   "cell_type": "code",
   "execution_count": 1,
   "metadata": {},
   "outputs": [],
   "source": [
    "#we use functions for reuseability of code."
   ]
  },
  {
   "cell_type": "code",
   "execution_count": 2,
   "metadata": {},
   "outputs": [
    {
     "name": "stdout",
     "output_type": "stream",
     "text": [
      "46\n"
     ]
    }
   ],
   "source": [
    "a=12\n",
    "b=34\n",
    "c=a+b\n",
    "print(c)"
   ]
  },
  {
   "cell_type": "code",
   "execution_count": 3,
   "metadata": {},
   "outputs": [],
   "source": [
    "#defining a function\n",
    "#function definition\n",
    "def add_two_numbers():\n",
    "    #parameter less function\n",
    "    a=12\n",
    "    b=34\n",
    "    c=a+b\n",
    "    print(c)"
   ]
  },
  {
   "cell_type": "code",
   "execution_count": 4,
   "metadata": {},
   "outputs": [
    {
     "name": "stdout",
     "output_type": "stream",
     "text": [
      "46\n"
     ]
    }
   ],
   "source": [
    "#function calling\n",
    "add_two_numbers()\n",
    "#calling function"
   ]
  },
  {
   "cell_type": "code",
   "execution_count": 5,
   "metadata": {},
   "outputs": [
    {
     "name": "stdout",
     "output_type": "stream",
     "text": [
      "46\n",
      "46\n",
      "46\n",
      "46\n",
      "46\n"
     ]
    }
   ],
   "source": [
    "add_two_numbers()\n",
    "add_two_numbers()\n",
    "add_two_numbers()\n",
    "add_two_numbers()\n",
    "add_two_numbers()"
   ]
  },
  {
   "cell_type": "code",
   "execution_count": 6,
   "metadata": {},
   "outputs": [],
   "source": [
    "def greeting(name):#(parameter of function)\n",
    "    #this is parametrised function\n",
    "    print(f\"your name is {name}\")\n",
    "    "
   ]
  },
  {
   "cell_type": "code",
   "execution_count": 7,
   "metadata": {},
   "outputs": [
    {
     "name": "stdout",
     "output_type": "stream",
     "text": [
      "your name is ahmed\n"
     ]
    }
   ],
   "source": [
    "#for calling paramertised function we need to pass ard=gument for calling that function\n",
    "greeting(\"ahmed\")#(argument)"
   ]
  },
  {
   "cell_type": "code",
   "execution_count": 8,
   "metadata": {},
   "outputs": [
    {
     "ename": "TypeError",
     "evalue": "greeting() missing 1 required positional argument: 'name'",
     "output_type": "error",
     "traceback": [
      "\u001b[1;31m---------------------------------------------------------------------------\u001b[0m",
      "\u001b[1;31mTypeError\u001b[0m                                 Traceback (most recent call last)",
      "\u001b[1;32m<ipython-input-8-3ffcd7d44b66>\u001b[0m in \u001b[0;36m<module>\u001b[1;34m\u001b[0m\n\u001b[1;32m----> 1\u001b[1;33m \u001b[0mgreeting\u001b[0m\u001b[1;33m(\u001b[0m\u001b[1;33m)\u001b[0m\u001b[1;33m\u001b[0m\u001b[1;33m\u001b[0m\u001b[0m\n\u001b[0m",
      "\u001b[1;31mTypeError\u001b[0m: greeting() missing 1 required positional argument: 'name'"
     ]
    }
   ],
   "source": [
    "greeting()\n",
    "#it will not run simply"
   ]
  },
  {
   "cell_type": "code",
   "execution_count": 9,
   "metadata": {},
   "outputs": [
    {
     "name": "stdout",
     "output_type": "stream",
     "text": [
      "your name is ali\n"
     ]
    }
   ],
   "source": [
    "greeting(\"ali\")"
   ]
  },
  {
   "cell_type": "code",
   "execution_count": 10,
   "metadata": {},
   "outputs": [
    {
     "name": "stdout",
     "output_type": "stream",
     "text": [
      "your name is fatima\n"
     ]
    }
   ],
   "source": [
    "greeting(\"fatima\")"
   ]
  },
  {
   "cell_type": "code",
   "execution_count": 15,
   "metadata": {},
   "outputs": [],
   "source": [
    "def sum(a,b):\n",
    "    c=b+a\n",
    "    print(f\"The sum is {c}\")"
   ]
  },
  {
   "cell_type": "code",
   "execution_count": 16,
   "metadata": {},
   "outputs": [
    {
     "name": "stdout",
     "output_type": "stream",
     "text": [
      "The sum is 500\n"
     ]
    }
   ],
   "source": [
    "sum(200,300)"
   ]
  },
  {
   "cell_type": "code",
   "execution_count": 17,
   "metadata": {},
   "outputs": [
    {
     "name": "stdout",
     "output_type": "stream",
     "text": [
      "The sum is 100\n"
     ]
    }
   ],
   "source": [
    "sum(50,50)"
   ]
  },
  {
   "cell_type": "code",
   "execution_count": 18,
   "metadata": {},
   "outputs": [],
   "source": [
    "def gname(firstName, middleName, lastName):\n",
    "    #fullName=firstName+middleName+lastName \n",
    "    #we can also do throng concatenation or by format\n",
    "    fullName=f\"{firstName} {middleName} {lastName}\"\n",
    "    print(fullName)"
   ]
  },
  {
   "cell_type": "code",
   "execution_count": 20,
   "metadata": {},
   "outputs": [
    {
     "name": "stdout",
     "output_type": "stream",
     "text": [
      "syeda fatima aijaz\n"
     ]
    }
   ],
   "source": [
    "gname(\"syeda\",\"fatima\",\"aijaz\")\n",
    "#these are positional argument according to their position these arguments are align"
   ]
  },
  {
   "cell_type": "code",
   "execution_count": 22,
   "metadata": {},
   "outputs": [
    {
     "name": "stdout",
     "output_type": "stream",
     "text": [
      "syeda fatima aijaz\n"
     ]
    }
   ],
   "source": [
    "#key word argument\n",
    "#jo argument pass karna hai uski key uskay sath bhejna hai\n",
    "gname(middleName=\"fatima\",firstName=\"syeda\",lastName=\"aijaz\")"
   ]
  },
  {
   "cell_type": "code",
   "execution_count": 23,
   "metadata": {},
   "outputs": [],
   "source": [
    "#default parameter"
   ]
  },
  {
   "cell_type": "code",
   "execution_count": 24,
   "metadata": {},
   "outputs": [],
   "source": [
    "def gname(firstName, middleName, lastName):\n",
    "    #fullName=firstName+middleName+lastName \n",
    "    #we can also do throng concatenation or by format\n",
    "    fullName=f\"{firstName} {middleName} {lastName}\"\n",
    "    print(fullName)"
   ]
  },
  {
   "cell_type": "code",
   "execution_count": 25,
   "metadata": {},
   "outputs": [
    {
     "ename": "TypeError",
     "evalue": "gname() missing 1 required positional argument: 'lastName'",
     "output_type": "error",
     "traceback": [
      "\u001b[1;31m---------------------------------------------------------------------------\u001b[0m",
      "\u001b[1;31mTypeError\u001b[0m                                 Traceback (most recent call last)",
      "\u001b[1;32m<ipython-input-25-7140a7a445d7>\u001b[0m in \u001b[0;36m<module>\u001b[1;34m\u001b[0m\n\u001b[1;32m----> 1\u001b[1;33m \u001b[0mgname\u001b[0m\u001b[1;33m(\u001b[0m\u001b[1;34m\"fatima\"\u001b[0m\u001b[1;33m,\u001b[0m\u001b[1;34m\"maria\"\u001b[0m\u001b[1;33m)\u001b[0m\u001b[1;33m\u001b[0m\u001b[1;33m\u001b[0m\u001b[0m\n\u001b[0m",
      "\u001b[1;31mTypeError\u001b[0m: gname() missing 1 required positional argument: 'lastName'"
     ]
    }
   ],
   "source": [
    "gname(\"fatima\",\"maria\")"
   ]
  },
  {
   "cell_type": "code",
   "execution_count": 28,
   "metadata": {},
   "outputs": [],
   "source": [
    "#to overcome the above error that someone doesn't have middle name or last name or first name\n",
    "def gname(firstName=\"\", middleName=\"\", lastName=\"\"):\n",
    "    #fullName=firstName+middleName+lastName \n",
    "    #we can also do throng concatenation or by format\n",
    "    fullName=f\"{firstName} {middleName} {lastName}\"\n",
    "    print(fullName)"
   ]
  },
  {
   "cell_type": "code",
   "execution_count": 30,
   "metadata": {},
   "outputs": [
    {
     "name": "stdout",
     "output_type": "stream",
     "text": [
      "fatima aijaz \n"
     ]
    }
   ],
   "source": [
    "gname(\"fatima\",\"aijaz\")"
   ]
  },
  {
   "cell_type": "code",
   "execution_count": 34,
   "metadata": {},
   "outputs": [],
   "source": [
    "def sub(u,v):\n",
    "    w=u-v#w is local variable it will work only within function\n",
    "    print(w)"
   ]
  },
  {
   "cell_type": "code",
   "execution_count": 35,
   "metadata": {},
   "outputs": [
    {
     "name": "stdout",
     "output_type": "stream",
     "text": [
      "100\n"
     ]
    }
   ],
   "source": [
    "sub(200,100)"
   ]
  },
  {
   "cell_type": "code",
   "execution_count": 36,
   "metadata": {},
   "outputs": [
    {
     "ename": "NameError",
     "evalue": "name 'w' is not defined",
     "output_type": "error",
     "traceback": [
      "\u001b[1;31m---------------------------------------------------------------------------\u001b[0m",
      "\u001b[1;31mNameError\u001b[0m                                 Traceback (most recent call last)",
      "\u001b[1;32m<ipython-input-36-74c7db5447c3>\u001b[0m in \u001b[0;36m<module>\u001b[1;34m\u001b[0m\n\u001b[1;32m----> 1\u001b[1;33m \u001b[0mw\u001b[0m\u001b[1;33m\u001b[0m\u001b[1;33m\u001b[0m\u001b[0m\n\u001b[0m",
      "\u001b[1;31mNameError\u001b[0m: name 'w' is not defined"
     ]
    }
   ],
   "source": [
    "w"
   ]
  },
  {
   "cell_type": "code",
   "execution_count": 37,
   "metadata": {},
   "outputs": [],
   "source": [
    "#2 types of variable \n",
    "#local variable:within function\n",
    "#global variable:everywhere in code\n",
    "#this is scope of variable\n",
    "#local ka scope function kay andar andar hota hai\n",
    "#global variable ka scope function kay andar bhi bahir bhi"
   ]
  },
  {
   "cell_type": "code",
   "execution_count": 42,
   "metadata": {},
   "outputs": [],
   "source": [
    "#agar koi value return main wapis use karni hai tou yeh karna hoga\n",
    "def sub(u,v):\n",
    "    w=u-v\n",
    "    #w is local variable it will work only within function\n",
    "    return w\n",
    "#return must be the last line of function if we give more command below it will not execute"
   ]
  },
  {
   "cell_type": "code",
   "execution_count": 45,
   "metadata": {},
   "outputs": [
    {
     "name": "stdout",
     "output_type": "stream",
     "text": [
      "100\n"
     ]
    }
   ],
   "source": [
    "result = sub(200,100)\n",
    "print(result)"
   ]
  },
  {
   "cell_type": "code",
   "execution_count": 46,
   "metadata": {},
   "outputs": [],
   "source": [
    "def sub(u,v):\n",
    "    w=u-v\n",
    "    return w,\"hello python\"\n",
    "#aek sy ziyada value bhi return hosakti hai"
   ]
  },
  {
   "cell_type": "code",
   "execution_count": 47,
   "metadata": {},
   "outputs": [
    {
     "name": "stdout",
     "output_type": "stream",
     "text": [
      "(100, 'hello python')\n"
     ]
    }
   ],
   "source": [
    "result = sub(200,100)\n",
    "print(result)"
   ]
  },
  {
   "cell_type": "code",
   "execution_count": 48,
   "metadata": {},
   "outputs": [],
   "source": [
    "#making local variable, a global variable"
   ]
  },
  {
   "cell_type": "code",
   "execution_count": 50,
   "metadata": {},
   "outputs": [
    {
     "name": "stdout",
     "output_type": "stream",
     "text": [
      "100 100\n"
     ]
    }
   ],
   "source": [
    "def sub(u,v):\n",
    "    global w\n",
    "    w=u-v\n",
    "    return w\n",
    "print(sub(200,100),w)"
   ]
  },
  {
   "cell_type": "code",
   "execution_count": 54,
   "metadata": {},
   "outputs": [
    {
     "name": "stdout",
     "output_type": "stream",
     "text": [
      "100 i am a local global pakistan\n"
     ]
    }
   ],
   "source": [
    "def sub(u,v):\n",
    "    global q\n",
    "    global p\n",
    "    q=\"i am a local global\"\n",
    "    p=\"pakistan\"\n",
    "    w=u-v\n",
    "    return w\n",
    "print(sub(200,100),q,p)\n"
   ]
  },
  {
   "cell_type": "markdown",
   "metadata": {},
   "source": [
    "# args,kwargs"
   ]
  },
  {
   "cell_type": "code",
   "execution_count": 1,
   "metadata": {},
   "outputs": [],
   "source": [
    "def car(model, year):\n",
    "    print(model, year)"
   ]
  },
  {
   "cell_type": "code",
   "execution_count": 2,
   "metadata": {},
   "outputs": [
    {
     "name": "stdout",
     "output_type": "stream",
     "text": [
      "corolla 2019\n"
     ]
    }
   ],
   "source": [
    "car('corolla', 2019)\n",
    "#positional arguments"
   ]
  },
  {
   "cell_type": "code",
   "execution_count": 3,
   "metadata": {},
   "outputs": [
    {
     "name": "stdout",
     "output_type": "stream",
     "text": [
      "2019 toyota\n"
     ]
    }
   ],
   "source": [
    "car(2019, 'toyota')"
   ]
  },
  {
   "cell_type": "code",
   "execution_count": 4,
   "metadata": {},
   "outputs": [
    {
     "name": "stdout",
     "output_type": "stream",
     "text": [
      "toyota 2019\n"
     ]
    }
   ],
   "source": [
    "#key word argument(values agar agay peechay hngi tou farq nhe parega)\n",
    "car(year=2019,model='toyota')"
   ]
  },
  {
   "cell_type": "code",
   "execution_count": 5,
   "metadata": {},
   "outputs": [],
   "source": [
    "def name(fname,lname):\n",
    "    print(f'first name:{fname}')\n",
    "    print(f'last name:{lname}')"
   ]
  },
  {
   "cell_type": "code",
   "execution_count": 6,
   "metadata": {},
   "outputs": [
    {
     "name": "stdout",
     "output_type": "stream",
     "text": [
      "first name:hussain\n",
      "last name:ali\n"
     ]
    }
   ],
   "source": [
    "name('hussain', 'ali')"
   ]
  },
  {
   "cell_type": "code",
   "execution_count": 7,
   "metadata": {},
   "outputs": [
    {
     "name": "stdout",
     "output_type": "stream",
     "text": [
      "first name:ali\n",
      "last name:hussain\n"
     ]
    }
   ],
   "source": [
    "name(fname='ali',lname='hussain')\n"
   ]
  },
  {
   "cell_type": "code",
   "execution_count": 8,
   "metadata": {},
   "outputs": [
    {
     "name": "stdout",
     "output_type": "stream",
     "text": [
      "first name:ali\n",
      "last name:hussain\n"
     ]
    }
   ],
   "source": [
    "name(lname='hussain',fname='ali')"
   ]
  },
  {
   "cell_type": "code",
   "execution_count": 16,
   "metadata": {},
   "outputs": [],
   "source": [
    "#keywords arg and positional arg can bve defined together\n",
    "def name(fname,mname,lname):\n",
    "    print(f'first name:{fname}')\n",
    "    print(f'middle name:{mname}')\n",
    "    print(f'last name:{lname}')"
   ]
  },
  {
   "cell_type": "code",
   "execution_count": 10,
   "metadata": {},
   "outputs": [
    {
     "ename": "SyntaxError",
     "evalue": "positional argument follows keyword argument (<ipython-input-10-514919e41d9a>, line 1)",
     "output_type": "error",
     "traceback": [
      "\u001b[1;36m  File \u001b[1;32m\"<ipython-input-10-514919e41d9a>\"\u001b[1;36m, line \u001b[1;32m1\u001b[0m\n\u001b[1;33m    name('john', mname='walten','smith')\u001b[0m\n\u001b[1;37m                               ^\u001b[0m\n\u001b[1;31mSyntaxError\u001b[0m\u001b[1;31m:\u001b[0m positional argument follows keyword argument\n"
     ]
    }
   ],
   "source": [
    "name('john', mname='walten','smith')\n",
    "# positional, keyword,      positional"
   ]
  },
  {
   "cell_type": "code",
   "execution_count": 18,
   "metadata": {},
   "outputs": [],
   "source": [
    "def name(fname,lname,mname):\n",
    "    print(f'first name:{fname}')\n",
    "    print(f'middle name:{mname}')\n",
    "    print(f'last name:{lname}')"
   ]
  },
  {
   "cell_type": "code",
   "execution_count": 19,
   "metadata": {},
   "outputs": [
    {
     "name": "stdout",
     "output_type": "stream",
     "text": [
      "first name:john\n",
      "middle name:walten\n",
      "last name:smith\n"
     ]
    }
   ],
   "source": [
    "#positional should come first and then all keyword arguments should come so positional may not follow keyword\n",
    "name('john','smith',mname='walten')"
   ]
  },
  {
   "cell_type": "markdown",
   "metadata": {},
   "source": [
    "# Arbitary number of arguments"
   ]
  },
  {
   "cell_type": "code",
   "execution_count": 27,
   "metadata": {},
   "outputs": [],
   "source": [
    "#when we don't know number of arguments we use *\n",
    "def pizza(size, flavour,*toppings):\n",
    "    #                  ,this argument will come in tupples form\n",
    "    # if we make toppings a list instead of tupples so list can be modified and changed but tupples\n",
    "    #cannot change so that what toppings we want are saved in tupples not modified\n",
    "    print(size,flavour)\n",
    "    print(toppings)"
   ]
  },
  {
   "cell_type": "code",
   "execution_count": 28,
   "metadata": {},
   "outputs": [
    {
     "name": "stdout",
     "output_type": "stream",
     "text": [
      "large chicken tikka\n",
      "('extra cheese', 'olives')\n"
     ]
    }
   ],
   "source": [
    "pizza('large','chicken tikka', 'extra cheese', 'olives')"
   ]
  },
  {
   "cell_type": "code",
   "execution_count": 29,
   "metadata": {},
   "outputs": [
    {
     "name": "stdout",
     "output_type": "stream",
     "text": [
      "large chicken tikka\n",
      "('extra cheese',)\n"
     ]
    }
   ],
   "source": [
    "pizza('large','chicken tikka', 'extra cheese')\n",
    "#its output will give comma(,) after toppings which shows many arguments can come in it"
   ]
  },
  {
   "cell_type": "code",
   "execution_count": 30,
   "metadata": {},
   "outputs": [
    {
     "name": "stdout",
     "output_type": "stream",
     "text": [
      "large chicken tikka\n",
      "('extra cheese', 'olives', 'extra spicy')\n"
     ]
    }
   ],
   "source": [
    "pizza('large','chicken tikka', 'extra cheese', 'olives', 'extra spicy')"
   ]
  },
  {
   "cell_type": "code",
   "execution_count": 31,
   "metadata": {},
   "outputs": [
    {
     "name": "stdout",
     "output_type": "stream",
     "text": [
      "large chicken tikka\n",
      "('extra cheese', 'olives', 'extra spicy', 'vegies')\n"
     ]
    }
   ],
   "source": [
    "pizza('large','chicken tikka', 'extra cheese', 'olives', 'extra spicy', 'vegies')"
   ]
  },
  {
   "cell_type": "code",
   "execution_count": 34,
   "metadata": {},
   "outputs": [],
   "source": [
    "def car(make, model,**specs):\n",
    "    #               comes in form of dictionary\n",
    "    #keywords becomes key and argument becomes value\n",
    "    print(make, model)\n",
    "    print(specs)"
   ]
  },
  {
   "cell_type": "code",
   "execution_count": 35,
   "metadata": {},
   "outputs": [
    {
     "name": "stdout",
     "output_type": "stream",
     "text": [
      "toyota prius\n",
      "{'tramsmission': 'automatic'}\n"
     ]
    }
   ],
   "source": [
    "car('toyota','prius',tramsmission= 'automatic')"
   ]
  },
  {
   "cell_type": "code",
   "execution_count": 36,
   "metadata": {},
   "outputs": [
    {
     "name": "stdout",
     "output_type": "stream",
     "text": [
      "toyota prius\n",
      "{'tramsmission': 'automatic', 'power': 'yes'}\n"
     ]
    }
   ],
   "source": [
    "car('toyota','prius',tramsmission= 'automatic',power='yes') "
   ]
  },
  {
   "cell_type": "markdown",
   "metadata": {},
   "source": [
    "# functions as a variable"
   ]
  },
  {
   "cell_type": "code",
   "execution_count": 47,
   "metadata": {},
   "outputs": [],
   "source": [
    "def add(a,b):\n",
    "    c = a + b\n",
    "    return c"
   ]
  },
  {
   "cell_type": "code",
   "execution_count": 48,
   "metadata": {},
   "outputs": [],
   "source": [
    "def sub(a,b):\n",
    "    c= a - b\n",
    "    return c"
   ]
  },
  {
   "cell_type": "code",
   "execution_count": 49,
   "metadata": {},
   "outputs": [],
   "source": [
    "result = add(2,2) + sub(6,3)"
   ]
  },
  {
   "cell_type": "code",
   "execution_count": 50,
   "metadata": {},
   "outputs": [
    {
     "name": "stdout",
     "output_type": "stream",
     "text": [
      "7\n"
     ]
    }
   ],
   "source": [
    "print(result)"
   ]
  },
  {
   "cell_type": "code",
   "execution_count": 53,
   "metadata": {},
   "outputs": [
    {
     "ename": "TypeError",
     "evalue": "unsupported operand type(s) for -: 'str' and 'str'",
     "output_type": "error",
     "traceback": [
      "\u001b[1;31m---------------------------------------------------------------------------\u001b[0m",
      "\u001b[1;31mTypeError\u001b[0m                                 Traceback (most recent call last)",
      "\u001b[1;32m<ipython-input-53-1346cf9955f2>\u001b[0m in \u001b[0;36m<module>\u001b[1;34m\u001b[0m\n\u001b[1;32m----> 1\u001b[1;33m \u001b[0mresult\u001b[0m \u001b[1;33m=\u001b[0m \u001b[0madd\u001b[0m\u001b[1;33m(\u001b[0m\u001b[1;34m'nasir'\u001b[0m\u001b[1;33m,\u001b[0m\u001b[1;34m'hussain'\u001b[0m\u001b[1;33m)\u001b[0m \u001b[1;33m+\u001b[0m \u001b[0msub\u001b[0m\u001b[1;33m(\u001b[0m\u001b[1;34m'ali'\u001b[0m\u001b[1;33m,\u001b[0m\u001b[1;34m'hissain'\u001b[0m\u001b[1;33m)\u001b[0m\u001b[1;33m\u001b[0m\u001b[1;33m\u001b[0m\u001b[0m\n\u001b[0m\u001b[0;32m      2\u001b[0m \u001b[1;31m#it will do addition because strings can concatenate but it may not subtract\u001b[0m\u001b[1;33m\u001b[0m\u001b[1;33m\u001b[0m\u001b[1;33m\u001b[0m\u001b[0m\n\u001b[0;32m      3\u001b[0m \u001b[0mprint\u001b[0m\u001b[1;33m(\u001b[0m\u001b[0mresult\u001b[0m\u001b[1;33m)\u001b[0m\u001b[1;33m\u001b[0m\u001b[1;33m\u001b[0m\u001b[0m\n",
      "\u001b[1;32m<ipython-input-48-deef06ffd4a5>\u001b[0m in \u001b[0;36msub\u001b[1;34m(a, b)\u001b[0m\n\u001b[0;32m      1\u001b[0m \u001b[1;32mdef\u001b[0m \u001b[0msub\u001b[0m\u001b[1;33m(\u001b[0m\u001b[0ma\u001b[0m\u001b[1;33m,\u001b[0m\u001b[0mb\u001b[0m\u001b[1;33m)\u001b[0m\u001b[1;33m:\u001b[0m\u001b[1;33m\u001b[0m\u001b[1;33m\u001b[0m\u001b[0m\n\u001b[1;32m----> 2\u001b[1;33m     \u001b[0mc\u001b[0m\u001b[1;33m=\u001b[0m \u001b[0ma\u001b[0m \u001b[1;33m-\u001b[0m \u001b[0mb\u001b[0m\u001b[1;33m\u001b[0m\u001b[1;33m\u001b[0m\u001b[0m\n\u001b[0m\u001b[0;32m      3\u001b[0m     \u001b[1;32mreturn\u001b[0m \u001b[0mc\u001b[0m\u001b[1;33m\u001b[0m\u001b[1;33m\u001b[0m\u001b[0m\n",
      "\u001b[1;31mTypeError\u001b[0m: unsupported operand type(s) for -: 'str' and 'str'"
     ]
    }
   ],
   "source": [
    "result = add('nasir','hussain') + sub('ali','hissain')\n",
    "#it will do addition because strings can concatenate but it may not subtract\n",
    "print(result)"
   ]
  },
  {
   "cell_type": "code",
   "execution_count": 54,
   "metadata": {},
   "outputs": [
    {
     "name": "stdout",
     "output_type": "stream",
     "text": [
      "nasirhussain\n"
     ]
    }
   ],
   "source": [
    "result = add('nasir','hussain')\n",
    "print(result)"
   ]
  },
  {
   "cell_type": "code",
   "execution_count": 55,
   "metadata": {},
   "outputs": [],
   "source": [
    "def add(a,b):\n",
    "    c = a + b\n",
    "#return c"
   ]
  },
  {
   "cell_type": "code",
   "execution_count": 56,
   "metadata": {},
   "outputs": [
    {
     "name": "stdout",
     "output_type": "stream",
     "text": [
      "None\n"
     ]
    }
   ],
   "source": [
    "result = add('nasir','hussain')\n",
    "print(result)"
   ]
  },
  {
   "cell_type": "markdown",
   "metadata": {},
   "source": [
    "# while loop"
   ]
  },
  {
   "cell_type": "code",
   "execution_count": 57,
   "metadata": {},
   "outputs": [
    {
     "name": "stdout",
     "output_type": "stream",
     "text": [
      "0\n",
      "1\n",
      "2\n",
      "3\n",
      "4\n",
      "5\n",
      "6\n",
      "7\n",
      "8\n",
      "9\n"
     ]
    }
   ],
   "source": [
    "#when for and while loop starts it runs from start till end untill we use any break\n",
    "for a in range(10):\n",
    "    print(a)"
   ]
  },
  {
   "cell_type": "code",
   "execution_count": 2,
   "metadata": {},
   "outputs": [
    {
     "name": "stdout",
     "output_type": "stream",
     "text": [
      "0\n",
      "1\n",
      "2\n",
      "3\n",
      "4\n",
      "5\n",
      "6\n",
      "7\n",
      "8\n",
      "9\n"
     ]
    }
   ],
   "source": [
    "#\n",
    "a = 0\n",
    "while a<10: \n",
    "    print(a)\n",
    "    a = a+1"
   ]
  },
  {
   "cell_type": "code",
   "execution_count": 4,
   "metadata": {},
   "outputs": [
    {
     "name": "stdout",
     "output_type": "stream",
     "text": [
      "enter a toppingcheese\n",
      "enter a toppingvegi\n",
      "enter a toppingcrust\n",
      "enter a toppingcapsicum\n",
      "enter a toppingonions\n",
      "['cheese', 'vegi', 'crust', 'capsicum', 'onions']\n"
     ]
    }
   ],
   "source": [
    "topping =[]\n",
    "for a in range (5):\n",
    "    toppings = input('enter a topping')\n",
    "    topping.append(toppings)\n",
    "print(topping)\n",
    "#we need to give all 5 toppings "
   ]
  },
  {
   "cell_type": "code",
   "execution_count": 18,
   "metadata": {},
   "outputs": [
    {
     "name": "stdout",
     "output_type": "stream",
     "text": [
      "enter a toppingcheese\n",
      "enter a toppingq\n",
      "['cheese', 'q']\n"
     ]
    }
   ],
   "source": [
    "#in this we can stop giving topping when ever we want\n",
    "toppings =[]\n",
    "flag = True\n",
    "while flag:\n",
    "    topping = input('enter a topping')\n",
    "    toppings.append(topping)\n",
    "    if topping == 'q':\n",
    "            flag = False\n",
    "print(toppings)"
   ]
  },
  {
   "cell_type": "code",
   "execution_count": 20,
   "metadata": {},
   "outputs": [
    {
     "name": "stdout",
     "output_type": "stream",
     "text": [
      "enter a toppingcheese\n",
      "enter a toppingq\n",
      "['cheese']\n"
     ]
    }
   ],
   "source": [
    "#if we want to remove q from our output\n",
    "toppings =[]\n",
    "flag = True\n",
    "while flag:#while loop gives control in users hand\n",
    "    topping = input('enter a topping')\n",
    "    if topping == 'q':\n",
    "            flag = False\n",
    "    else:\n",
    "        toppings.append(topping)\n",
    "print(toppings)"
   ]
  },
  {
   "cell_type": "code",
   "execution_count": null,
   "metadata": {},
   "outputs": [
    {
     "name": "stdout",
     "output_type": "stream",
     "text": [
      "Pizza Order\n",
      "\n",
      "\n",
      "['small', 'medium', 'small']\n",
      "enter pizza sizesmall\n",
      "['small', 'medium', 'small']\n"
     ]
    }
   ],
   "source": [
    "availableFlavours = [\"fajita\",\"tikka\", \"mexican\"]\n",
    "availableSize = [\"small\", \"medium\", \"small\"]\n",
    "availableToppings = [\"cheese\",\"vegies\",\"olives\",\"mushrooms\"]\n",
    "print(\"Pizza Order\")\n",
    "print()\n",
    "print()\n",
    "flag = True\n",
    "while flag:\n",
    "    print(availableSize)\n",
    "    size = input(\"enter pizza size\")\n",
    "    if size not in availableSize:\n",
    "        print(f\"{size} not available\")\n",
    "        print(\"plz enter size again\")\n",
    "        size = input(\"enter pizza size\")\n",
    "        "
   ]
  },
  {
   "cell_type": "code",
   "execution_count": null,
   "metadata": {},
   "outputs": [],
   "source": []
  }
 ],
 "metadata": {
  "kernelspec": {
   "display_name": "Python 3",
   "language": "python",
   "name": "python3"
  },
  "language_info": {
   "codemirror_mode": {
    "name": "ipython",
    "version": 3
   },
   "file_extension": ".py",
   "mimetype": "text/x-python",
   "name": "python",
   "nbconvert_exporter": "python",
   "pygments_lexer": "ipython3",
   "version": "3.7.3"
  }
 },
 "nbformat": 4,
 "nbformat_minor": 2
}
